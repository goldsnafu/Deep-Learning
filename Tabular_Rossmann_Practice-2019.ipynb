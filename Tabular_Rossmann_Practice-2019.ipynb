{
  "nbformat": 4,
  "nbformat_minor": 0,
  "metadata": {
    "kernelspec": {
      "display_name": "Python 3",
      "language": "python",
      "name": "python3"
    },
    "colab": {
      "name": "Tabular_Rossmann_practice notebook.ipynb",
      "provenance": [],
      "collapsed_sections": [
        "--CTqWPU9R6k"
      ]
    },
    "accelerator": "GPU"
  },
  "cells": [
    {
      "cell_type": "markdown",
      "metadata": {
        "id": "H_5uOTd40GHv",
        "colab_type": "text"
      },
      "source": [
        "# Setup"
      ]
    },
    {
      "cell_type": "code",
      "metadata": {
        "id": "F4eV4Bjq9R4A",
        "colab_type": "code",
        "colab": {
          "base_uri": "https://localhost:8080/",
          "height": 104
        },
        "outputId": "9647c3cd-5205-4b65-ba0f-ff0f80e14537"
      },
      "source": [
        "!curl https://course.fast.ai/setup/colab | bash\n",
        "from fastai.tabular import *"
      ],
      "execution_count": 1,
      "outputs": [
        {
          "output_type": "stream",
          "text": [
            "  % Total    % Received % Xferd  Average Speed   Time    Time     Time  Current\n",
            "                                 Dload  Upload   Total   Spent    Left  Speed\n",
            "100  9127    0  9127    0     0  10466      0 --:--:-- --:--:-- --:--:-- 10454\n",
            "bash: line 1: syntax error near unexpected token `newline'\n",
            "bash: line 1: `<!DOCTYPE html>'\n"
          ],
          "name": "stdout"
        }
      ]
    },
    {
      "cell_type": "markdown",
      "metadata": {
        "id": "9j9eDsnt0Rsd",
        "colab_type": "text"
      },
      "source": [
        "Mounting Google Drive"
      ]
    },
    {
      "cell_type": "code",
      "metadata": {
        "id": "ywzBc9TR-r5B",
        "colab_type": "code",
        "colab": {}
      },
      "source": [
        "from google.colab import drive\n",
        "drive.mount('/content/drive')"
      ],
      "execution_count": null,
      "outputs": []
    },
    {
      "cell_type": "markdown",
      "metadata": {
        "id": "1O7igT9l0Kh_",
        "colab_type": "text"
      },
      "source": [
        "Setting directories"
      ]
    },
    {
      "cell_type": "code",
      "metadata": {
        "id": "Dbjjhke4-tvw",
        "colab_type": "code",
        "colab": {}
      },
      "source": [
        "root_dir = \"drive/My Drive/\"\n",
        "base_dir = root_dir + 'fastai-2019/'"
      ],
      "execution_count": 3,
      "outputs": []
    },
    {
      "cell_type": "code",
      "metadata": {
        "id": "iM-7RYOB2xOJ",
        "colab_type": "code",
        "colab": {
          "base_uri": "https://localhost:8080/",
          "height": 34
        },
        "outputId": "40943251-6e32-480b-f4f6-245ba58ede75"
      },
      "source": [
        "print(base_dir)"
      ],
      "execution_count": 4,
      "outputs": [
        {
          "output_type": "stream",
          "text": [
            "drive/My Drive/fastai-2019/\n"
          ],
          "name": "stdout"
        }
      ]
    },
    {
      "cell_type": "markdown",
      "metadata": {
        "id": "bfkDA0Tc9R4R",
        "colab_type": "text"
      },
      "source": [
        "# Loading cleaned data set"
      ]
    },
    {
      "cell_type": "code",
      "metadata": {
        "id": "N3UdGrir9R4Y",
        "colab_type": "code",
        "colab": {}
      },
      "source": [
        "path = Path(base_dir + '/data/rossmann/rossmann_cleaned')\n",
        "train_df = pd.read_pickle(path/'train_clean')"
      ],
      "execution_count": 5,
      "outputs": []
    },
    {
      "cell_type": "code",
      "metadata": {
        "id": "1OHN0fMM9R4i",
        "colab_type": "code",
        "colab": {
          "base_uri": "https://localhost:8080/",
          "height": 429
        },
        "outputId": "b19072ea-ac26-4cfd-cc90-c140f8a9c380"
      },
      "source": [
        "train_df.head()"
      ],
      "execution_count": 6,
      "outputs": [
        {
          "output_type": "execute_result",
          "data": {
            "text/html": [
              "<div>\n",
              "<style scoped>\n",
              "    .dataframe tbody tr th:only-of-type {\n",
              "        vertical-align: middle;\n",
              "    }\n",
              "\n",
              "    .dataframe tbody tr th {\n",
              "        vertical-align: top;\n",
              "    }\n",
              "\n",
              "    .dataframe thead th {\n",
              "        text-align: right;\n",
              "    }\n",
              "</style>\n",
              "<table border=\"1\" class=\"dataframe\">\n",
              "  <thead>\n",
              "    <tr style=\"text-align: right;\">\n",
              "      <th></th>\n",
              "      <th>index</th>\n",
              "      <th>Store</th>\n",
              "      <th>DayOfWeek</th>\n",
              "      <th>Date</th>\n",
              "      <th>Sales</th>\n",
              "      <th>Customers</th>\n",
              "      <th>Open</th>\n",
              "      <th>Promo</th>\n",
              "      <th>StateHoliday</th>\n",
              "      <th>SchoolHoliday</th>\n",
              "      <th>Year</th>\n",
              "      <th>Month</th>\n",
              "      <th>Week</th>\n",
              "      <th>Day</th>\n",
              "      <th>Dayofweek</th>\n",
              "      <th>Dayofyear</th>\n",
              "      <th>Is_month_end</th>\n",
              "      <th>Is_month_start</th>\n",
              "      <th>Is_quarter_end</th>\n",
              "      <th>Is_quarter_start</th>\n",
              "      <th>Is_year_end</th>\n",
              "      <th>Is_year_start</th>\n",
              "      <th>Elapsed</th>\n",
              "      <th>StoreType</th>\n",
              "      <th>Assortment</th>\n",
              "      <th>CompetitionDistance</th>\n",
              "      <th>CompetitionOpenSinceMonth</th>\n",
              "      <th>CompetitionOpenSinceYear</th>\n",
              "      <th>Promo2</th>\n",
              "      <th>Promo2SinceWeek</th>\n",
              "      <th>Promo2SinceYear</th>\n",
              "      <th>PromoInterval</th>\n",
              "      <th>State</th>\n",
              "      <th>file</th>\n",
              "      <th>week</th>\n",
              "      <th>trend</th>\n",
              "      <th>file_DE</th>\n",
              "      <th>week_DE</th>\n",
              "      <th>trend_DE</th>\n",
              "      <th>Date_DE</th>\n",
              "      <th>...</th>\n",
              "      <th>Mean_TemperatureC</th>\n",
              "      <th>Min_TemperatureC</th>\n",
              "      <th>Dew_PointC</th>\n",
              "      <th>MeanDew_PointC</th>\n",
              "      <th>Min_DewpointC</th>\n",
              "      <th>Max_Humidity</th>\n",
              "      <th>Mean_Humidity</th>\n",
              "      <th>Min_Humidity</th>\n",
              "      <th>Max_Sea_Level_PressurehPa</th>\n",
              "      <th>Mean_Sea_Level_PressurehPa</th>\n",
              "      <th>Min_Sea_Level_PressurehPa</th>\n",
              "      <th>Max_VisibilityKm</th>\n",
              "      <th>Mean_VisibilityKm</th>\n",
              "      <th>Min_VisibilitykM</th>\n",
              "      <th>Max_Wind_SpeedKm_h</th>\n",
              "      <th>Mean_Wind_SpeedKm_h</th>\n",
              "      <th>Max_Gust_SpeedKm_h</th>\n",
              "      <th>Precipitationmm</th>\n",
              "      <th>CloudCover</th>\n",
              "      <th>Events</th>\n",
              "      <th>WindDirDegrees</th>\n",
              "      <th>StateName</th>\n",
              "      <th>CompetitionOpenSince</th>\n",
              "      <th>CompetitionDaysOpen</th>\n",
              "      <th>CompetitionMonthsOpen</th>\n",
              "      <th>Promo2Since</th>\n",
              "      <th>Promo2Days</th>\n",
              "      <th>Promo2Weeks</th>\n",
              "      <th>AfterSchoolHoliday</th>\n",
              "      <th>BeforeSchoolHoliday</th>\n",
              "      <th>AfterStateHoliday</th>\n",
              "      <th>BeforeStateHoliday</th>\n",
              "      <th>AfterPromo</th>\n",
              "      <th>BeforePromo</th>\n",
              "      <th>SchoolHoliday_bw</th>\n",
              "      <th>StateHoliday_bw</th>\n",
              "      <th>Promo_bw</th>\n",
              "      <th>SchoolHoliday_fw</th>\n",
              "      <th>StateHoliday_fw</th>\n",
              "      <th>Promo_fw</th>\n",
              "    </tr>\n",
              "  </thead>\n",
              "  <tbody>\n",
              "    <tr>\n",
              "      <th>0</th>\n",
              "      <td>0</td>\n",
              "      <td>1</td>\n",
              "      <td>5</td>\n",
              "      <td>2015-07-31</td>\n",
              "      <td>5263</td>\n",
              "      <td>555</td>\n",
              "      <td>1</td>\n",
              "      <td>1</td>\n",
              "      <td>True</td>\n",
              "      <td>1</td>\n",
              "      <td>2015</td>\n",
              "      <td>7</td>\n",
              "      <td>31</td>\n",
              "      <td>31</td>\n",
              "      <td>4</td>\n",
              "      <td>212</td>\n",
              "      <td>True</td>\n",
              "      <td>False</td>\n",
              "      <td>False</td>\n",
              "      <td>False</td>\n",
              "      <td>False</td>\n",
              "      <td>False</td>\n",
              "      <td>1438300800</td>\n",
              "      <td>c</td>\n",
              "      <td>a</td>\n",
              "      <td>1270.0</td>\n",
              "      <td>9</td>\n",
              "      <td>2008</td>\n",
              "      <td>0</td>\n",
              "      <td>1</td>\n",
              "      <td>1900</td>\n",
              "      <td>NaN</td>\n",
              "      <td>HE</td>\n",
              "      <td>Rossmann_DE_HE</td>\n",
              "      <td>2015-08-02 - 2015-08-08</td>\n",
              "      <td>85</td>\n",
              "      <td>Rossmann_DE</td>\n",
              "      <td>2015-08-02 - 2015-08-08</td>\n",
              "      <td>83</td>\n",
              "      <td>2015-08-02</td>\n",
              "      <td>...</td>\n",
              "      <td>16</td>\n",
              "      <td>8</td>\n",
              "      <td>9</td>\n",
              "      <td>6</td>\n",
              "      <td>3</td>\n",
              "      <td>98</td>\n",
              "      <td>54</td>\n",
              "      <td>18</td>\n",
              "      <td>1021</td>\n",
              "      <td>1018</td>\n",
              "      <td>1015</td>\n",
              "      <td>31.0</td>\n",
              "      <td>15.0</td>\n",
              "      <td>10.0</td>\n",
              "      <td>24</td>\n",
              "      <td>11</td>\n",
              "      <td>NaN</td>\n",
              "      <td>0.0</td>\n",
              "      <td>1.0</td>\n",
              "      <td>Fog</td>\n",
              "      <td>13</td>\n",
              "      <td>Hessen</td>\n",
              "      <td>2008-09-15</td>\n",
              "      <td>2510</td>\n",
              "      <td>24</td>\n",
              "      <td>1900-01-01</td>\n",
              "      <td>0</td>\n",
              "      <td>0</td>\n",
              "      <td>0</td>\n",
              "      <td>0</td>\n",
              "      <td>0</td>\n",
              "      <td>0</td>\n",
              "      <td>0</td>\n",
              "      <td>0</td>\n",
              "      <td>5.0</td>\n",
              "      <td>7.0</td>\n",
              "      <td>5.0</td>\n",
              "      <td>7.0</td>\n",
              "      <td>7.0</td>\n",
              "      <td>5.0</td>\n",
              "    </tr>\n",
              "    <tr>\n",
              "      <th>1</th>\n",
              "      <td>1</td>\n",
              "      <td>2</td>\n",
              "      <td>5</td>\n",
              "      <td>2015-07-31</td>\n",
              "      <td>6064</td>\n",
              "      <td>625</td>\n",
              "      <td>1</td>\n",
              "      <td>1</td>\n",
              "      <td>True</td>\n",
              "      <td>1</td>\n",
              "      <td>2015</td>\n",
              "      <td>7</td>\n",
              "      <td>31</td>\n",
              "      <td>31</td>\n",
              "      <td>4</td>\n",
              "      <td>212</td>\n",
              "      <td>True</td>\n",
              "      <td>False</td>\n",
              "      <td>False</td>\n",
              "      <td>False</td>\n",
              "      <td>False</td>\n",
              "      <td>False</td>\n",
              "      <td>1438300800</td>\n",
              "      <td>a</td>\n",
              "      <td>a</td>\n",
              "      <td>570.0</td>\n",
              "      <td>11</td>\n",
              "      <td>2007</td>\n",
              "      <td>1</td>\n",
              "      <td>13</td>\n",
              "      <td>2010</td>\n",
              "      <td>Jan,Apr,Jul,Oct</td>\n",
              "      <td>TH</td>\n",
              "      <td>Rossmann_DE_TH</td>\n",
              "      <td>2015-08-02 - 2015-08-08</td>\n",
              "      <td>80</td>\n",
              "      <td>Rossmann_DE</td>\n",
              "      <td>2015-08-02 - 2015-08-08</td>\n",
              "      <td>83</td>\n",
              "      <td>2015-08-02</td>\n",
              "      <td>...</td>\n",
              "      <td>13</td>\n",
              "      <td>7</td>\n",
              "      <td>9</td>\n",
              "      <td>6</td>\n",
              "      <td>3</td>\n",
              "      <td>100</td>\n",
              "      <td>62</td>\n",
              "      <td>25</td>\n",
              "      <td>1021</td>\n",
              "      <td>1019</td>\n",
              "      <td>1017</td>\n",
              "      <td>10.0</td>\n",
              "      <td>10.0</td>\n",
              "      <td>10.0</td>\n",
              "      <td>14</td>\n",
              "      <td>11</td>\n",
              "      <td>NaN</td>\n",
              "      <td>0.0</td>\n",
              "      <td>4.0</td>\n",
              "      <td>Fog</td>\n",
              "      <td>309</td>\n",
              "      <td>Thueringen</td>\n",
              "      <td>2007-11-15</td>\n",
              "      <td>2815</td>\n",
              "      <td>24</td>\n",
              "      <td>2010-03-29</td>\n",
              "      <td>1950</td>\n",
              "      <td>25</td>\n",
              "      <td>0</td>\n",
              "      <td>0</td>\n",
              "      <td>0</td>\n",
              "      <td>0</td>\n",
              "      <td>0</td>\n",
              "      <td>0</td>\n",
              "      <td>5.0</td>\n",
              "      <td>7.0</td>\n",
              "      <td>5.0</td>\n",
              "      <td>1.0</td>\n",
              "      <td>1.0</td>\n",
              "      <td>1.0</td>\n",
              "    </tr>\n",
              "    <tr>\n",
              "      <th>2</th>\n",
              "      <td>2</td>\n",
              "      <td>3</td>\n",
              "      <td>5</td>\n",
              "      <td>2015-07-31</td>\n",
              "      <td>8314</td>\n",
              "      <td>821</td>\n",
              "      <td>1</td>\n",
              "      <td>1</td>\n",
              "      <td>True</td>\n",
              "      <td>1</td>\n",
              "      <td>2015</td>\n",
              "      <td>7</td>\n",
              "      <td>31</td>\n",
              "      <td>31</td>\n",
              "      <td>4</td>\n",
              "      <td>212</td>\n",
              "      <td>True</td>\n",
              "      <td>False</td>\n",
              "      <td>False</td>\n",
              "      <td>False</td>\n",
              "      <td>False</td>\n",
              "      <td>False</td>\n",
              "      <td>1438300800</td>\n",
              "      <td>a</td>\n",
              "      <td>a</td>\n",
              "      <td>14130.0</td>\n",
              "      <td>12</td>\n",
              "      <td>2006</td>\n",
              "      <td>1</td>\n",
              "      <td>14</td>\n",
              "      <td>2011</td>\n",
              "      <td>Jan,Apr,Jul,Oct</td>\n",
              "      <td>NW</td>\n",
              "      <td>Rossmann_DE_NW</td>\n",
              "      <td>2015-08-02 - 2015-08-08</td>\n",
              "      <td>86</td>\n",
              "      <td>Rossmann_DE</td>\n",
              "      <td>2015-08-02 - 2015-08-08</td>\n",
              "      <td>83</td>\n",
              "      <td>2015-08-02</td>\n",
              "      <td>...</td>\n",
              "      <td>13</td>\n",
              "      <td>6</td>\n",
              "      <td>10</td>\n",
              "      <td>7</td>\n",
              "      <td>4</td>\n",
              "      <td>100</td>\n",
              "      <td>61</td>\n",
              "      <td>24</td>\n",
              "      <td>1022</td>\n",
              "      <td>1019</td>\n",
              "      <td>1017</td>\n",
              "      <td>31.0</td>\n",
              "      <td>14.0</td>\n",
              "      <td>10.0</td>\n",
              "      <td>14</td>\n",
              "      <td>5</td>\n",
              "      <td>NaN</td>\n",
              "      <td>0.0</td>\n",
              "      <td>2.0</td>\n",
              "      <td>Fog</td>\n",
              "      <td>354</td>\n",
              "      <td>NordrheinWestfalen</td>\n",
              "      <td>2006-12-15</td>\n",
              "      <td>3150</td>\n",
              "      <td>24</td>\n",
              "      <td>2011-04-04</td>\n",
              "      <td>1579</td>\n",
              "      <td>25</td>\n",
              "      <td>0</td>\n",
              "      <td>0</td>\n",
              "      <td>0</td>\n",
              "      <td>0</td>\n",
              "      <td>0</td>\n",
              "      <td>0</td>\n",
              "      <td>5.0</td>\n",
              "      <td>7.0</td>\n",
              "      <td>5.0</td>\n",
              "      <td>5.0</td>\n",
              "      <td>7.0</td>\n",
              "      <td>5.0</td>\n",
              "    </tr>\n",
              "    <tr>\n",
              "      <th>3</th>\n",
              "      <td>3</td>\n",
              "      <td>4</td>\n",
              "      <td>5</td>\n",
              "      <td>2015-07-31</td>\n",
              "      <td>13995</td>\n",
              "      <td>1498</td>\n",
              "      <td>1</td>\n",
              "      <td>1</td>\n",
              "      <td>True</td>\n",
              "      <td>1</td>\n",
              "      <td>2015</td>\n",
              "      <td>7</td>\n",
              "      <td>31</td>\n",
              "      <td>31</td>\n",
              "      <td>4</td>\n",
              "      <td>212</td>\n",
              "      <td>True</td>\n",
              "      <td>False</td>\n",
              "      <td>False</td>\n",
              "      <td>False</td>\n",
              "      <td>False</td>\n",
              "      <td>False</td>\n",
              "      <td>1438300800</td>\n",
              "      <td>c</td>\n",
              "      <td>c</td>\n",
              "      <td>620.0</td>\n",
              "      <td>9</td>\n",
              "      <td>2009</td>\n",
              "      <td>0</td>\n",
              "      <td>1</td>\n",
              "      <td>1900</td>\n",
              "      <td>NaN</td>\n",
              "      <td>BE</td>\n",
              "      <td>Rossmann_DE_BE</td>\n",
              "      <td>2015-08-02 - 2015-08-08</td>\n",
              "      <td>74</td>\n",
              "      <td>Rossmann_DE</td>\n",
              "      <td>2015-08-02 - 2015-08-08</td>\n",
              "      <td>83</td>\n",
              "      <td>2015-08-02</td>\n",
              "      <td>...</td>\n",
              "      <td>14</td>\n",
              "      <td>9</td>\n",
              "      <td>9</td>\n",
              "      <td>7</td>\n",
              "      <td>4</td>\n",
              "      <td>94</td>\n",
              "      <td>61</td>\n",
              "      <td>30</td>\n",
              "      <td>1019</td>\n",
              "      <td>1017</td>\n",
              "      <td>1014</td>\n",
              "      <td>10.0</td>\n",
              "      <td>10.0</td>\n",
              "      <td>10.0</td>\n",
              "      <td>23</td>\n",
              "      <td>16</td>\n",
              "      <td>NaN</td>\n",
              "      <td>0.0</td>\n",
              "      <td>6.0</td>\n",
              "      <td>NaN</td>\n",
              "      <td>282</td>\n",
              "      <td>Berlin</td>\n",
              "      <td>2009-09-15</td>\n",
              "      <td>2145</td>\n",
              "      <td>24</td>\n",
              "      <td>1900-01-01</td>\n",
              "      <td>0</td>\n",
              "      <td>0</td>\n",
              "      <td>0</td>\n",
              "      <td>0</td>\n",
              "      <td>0</td>\n",
              "      <td>0</td>\n",
              "      <td>0</td>\n",
              "      <td>0</td>\n",
              "      <td>5.0</td>\n",
              "      <td>7.0</td>\n",
              "      <td>5.0</td>\n",
              "      <td>1.0</td>\n",
              "      <td>1.0</td>\n",
              "      <td>1.0</td>\n",
              "    </tr>\n",
              "    <tr>\n",
              "      <th>4</th>\n",
              "      <td>4</td>\n",
              "      <td>5</td>\n",
              "      <td>5</td>\n",
              "      <td>2015-07-31</td>\n",
              "      <td>4822</td>\n",
              "      <td>559</td>\n",
              "      <td>1</td>\n",
              "      <td>1</td>\n",
              "      <td>True</td>\n",
              "      <td>1</td>\n",
              "      <td>2015</td>\n",
              "      <td>7</td>\n",
              "      <td>31</td>\n",
              "      <td>31</td>\n",
              "      <td>4</td>\n",
              "      <td>212</td>\n",
              "      <td>True</td>\n",
              "      <td>False</td>\n",
              "      <td>False</td>\n",
              "      <td>False</td>\n",
              "      <td>False</td>\n",
              "      <td>False</td>\n",
              "      <td>1438300800</td>\n",
              "      <td>a</td>\n",
              "      <td>a</td>\n",
              "      <td>29910.0</td>\n",
              "      <td>4</td>\n",
              "      <td>2015</td>\n",
              "      <td>0</td>\n",
              "      <td>1</td>\n",
              "      <td>1900</td>\n",
              "      <td>NaN</td>\n",
              "      <td>SN</td>\n",
              "      <td>Rossmann_DE_SN</td>\n",
              "      <td>2015-08-02 - 2015-08-08</td>\n",
              "      <td>82</td>\n",
              "      <td>Rossmann_DE</td>\n",
              "      <td>2015-08-02 - 2015-08-08</td>\n",
              "      <td>83</td>\n",
              "      <td>2015-08-02</td>\n",
              "      <td>...</td>\n",
              "      <td>15</td>\n",
              "      <td>10</td>\n",
              "      <td>8</td>\n",
              "      <td>6</td>\n",
              "      <td>5</td>\n",
              "      <td>82</td>\n",
              "      <td>55</td>\n",
              "      <td>26</td>\n",
              "      <td>1020</td>\n",
              "      <td>1018</td>\n",
              "      <td>1016</td>\n",
              "      <td>10.0</td>\n",
              "      <td>10.0</td>\n",
              "      <td>10.0</td>\n",
              "      <td>14</td>\n",
              "      <td>11</td>\n",
              "      <td>NaN</td>\n",
              "      <td>0.0</td>\n",
              "      <td>4.0</td>\n",
              "      <td>NaN</td>\n",
              "      <td>290</td>\n",
              "      <td>Sachsen</td>\n",
              "      <td>2015-04-15</td>\n",
              "      <td>107</td>\n",
              "      <td>3</td>\n",
              "      <td>1900-01-01</td>\n",
              "      <td>0</td>\n",
              "      <td>0</td>\n",
              "      <td>0</td>\n",
              "      <td>0</td>\n",
              "      <td>0</td>\n",
              "      <td>0</td>\n",
              "      <td>0</td>\n",
              "      <td>0</td>\n",
              "      <td>5.0</td>\n",
              "      <td>7.0</td>\n",
              "      <td>5.0</td>\n",
              "      <td>1.0</td>\n",
              "      <td>1.0</td>\n",
              "      <td>1.0</td>\n",
              "    </tr>\n",
              "  </tbody>\n",
              "</table>\n",
              "<p>5 rows × 93 columns</p>\n",
              "</div>"
            ],
            "text/plain": [
              "   index  Store  DayOfWeek  ... SchoolHoliday_fw  StateHoliday_fw  Promo_fw\n",
              "0      0      1          5  ...              7.0              7.0       5.0\n",
              "1      1      2          5  ...              1.0              1.0       1.0\n",
              "2      2      3          5  ...              5.0              7.0       5.0\n",
              "3      3      4          5  ...              1.0              1.0       1.0\n",
              "4      4      5          5  ...              1.0              1.0       1.0\n",
              "\n",
              "[5 rows x 93 columns]"
            ]
          },
          "metadata": {
            "tags": []
          },
          "execution_count": 6
        }
      ]
    },
    {
      "cell_type": "code",
      "metadata": {
        "id": "rXIPzfDPWwHR",
        "colab_type": "code",
        "colab": {
          "base_uri": "https://localhost:8080/",
          "height": 424
        },
        "outputId": "c65b00f7-1943-4847-d209-694432f6ad49"
      },
      "source": [
        "train_df.head().T"
      ],
      "execution_count": 7,
      "outputs": [
        {
          "output_type": "execute_result",
          "data": {
            "text/html": [
              "<div>\n",
              "<style scoped>\n",
              "    .dataframe tbody tr th:only-of-type {\n",
              "        vertical-align: middle;\n",
              "    }\n",
              "\n",
              "    .dataframe tbody tr th {\n",
              "        vertical-align: top;\n",
              "    }\n",
              "\n",
              "    .dataframe thead th {\n",
              "        text-align: right;\n",
              "    }\n",
              "</style>\n",
              "<table border=\"1\" class=\"dataframe\">\n",
              "  <thead>\n",
              "    <tr style=\"text-align: right;\">\n",
              "      <th></th>\n",
              "      <th>0</th>\n",
              "      <th>1</th>\n",
              "      <th>2</th>\n",
              "      <th>3</th>\n",
              "      <th>4</th>\n",
              "    </tr>\n",
              "  </thead>\n",
              "  <tbody>\n",
              "    <tr>\n",
              "      <th>index</th>\n",
              "      <td>0</td>\n",
              "      <td>1</td>\n",
              "      <td>2</td>\n",
              "      <td>3</td>\n",
              "      <td>4</td>\n",
              "    </tr>\n",
              "    <tr>\n",
              "      <th>Store</th>\n",
              "      <td>1</td>\n",
              "      <td>2</td>\n",
              "      <td>3</td>\n",
              "      <td>4</td>\n",
              "      <td>5</td>\n",
              "    </tr>\n",
              "    <tr>\n",
              "      <th>DayOfWeek</th>\n",
              "      <td>5</td>\n",
              "      <td>5</td>\n",
              "      <td>5</td>\n",
              "      <td>5</td>\n",
              "      <td>5</td>\n",
              "    </tr>\n",
              "    <tr>\n",
              "      <th>Date</th>\n",
              "      <td>2015-07-31 00:00:00</td>\n",
              "      <td>2015-07-31 00:00:00</td>\n",
              "      <td>2015-07-31 00:00:00</td>\n",
              "      <td>2015-07-31 00:00:00</td>\n",
              "      <td>2015-07-31 00:00:00</td>\n",
              "    </tr>\n",
              "    <tr>\n",
              "      <th>Sales</th>\n",
              "      <td>5263</td>\n",
              "      <td>6064</td>\n",
              "      <td>8314</td>\n",
              "      <td>13995</td>\n",
              "      <td>4822</td>\n",
              "    </tr>\n",
              "    <tr>\n",
              "      <th>...</th>\n",
              "      <td>...</td>\n",
              "      <td>...</td>\n",
              "      <td>...</td>\n",
              "      <td>...</td>\n",
              "      <td>...</td>\n",
              "    </tr>\n",
              "    <tr>\n",
              "      <th>StateHoliday_bw</th>\n",
              "      <td>7</td>\n",
              "      <td>7</td>\n",
              "      <td>7</td>\n",
              "      <td>7</td>\n",
              "      <td>7</td>\n",
              "    </tr>\n",
              "    <tr>\n",
              "      <th>Promo_bw</th>\n",
              "      <td>5</td>\n",
              "      <td>5</td>\n",
              "      <td>5</td>\n",
              "      <td>5</td>\n",
              "      <td>5</td>\n",
              "    </tr>\n",
              "    <tr>\n",
              "      <th>SchoolHoliday_fw</th>\n",
              "      <td>7</td>\n",
              "      <td>1</td>\n",
              "      <td>5</td>\n",
              "      <td>1</td>\n",
              "      <td>1</td>\n",
              "    </tr>\n",
              "    <tr>\n",
              "      <th>StateHoliday_fw</th>\n",
              "      <td>7</td>\n",
              "      <td>1</td>\n",
              "      <td>7</td>\n",
              "      <td>1</td>\n",
              "      <td>1</td>\n",
              "    </tr>\n",
              "    <tr>\n",
              "      <th>Promo_fw</th>\n",
              "      <td>5</td>\n",
              "      <td>1</td>\n",
              "      <td>5</td>\n",
              "      <td>1</td>\n",
              "      <td>1</td>\n",
              "    </tr>\n",
              "  </tbody>\n",
              "</table>\n",
              "<p>93 rows × 5 columns</p>\n",
              "</div>"
            ],
            "text/plain": [
              "                                    0  ...                    4\n",
              "index                               0  ...                    4\n",
              "Store                               1  ...                    5\n",
              "DayOfWeek                           5  ...                    5\n",
              "Date              2015-07-31 00:00:00  ...  2015-07-31 00:00:00\n",
              "Sales                            5263  ...                 4822\n",
              "...                               ...  ...                  ...\n",
              "StateHoliday_bw                     7  ...                    7\n",
              "Promo_bw                            5  ...                    5\n",
              "SchoolHoliday_fw                    7  ...                    1\n",
              "StateHoliday_fw                     7  ...                    1\n",
              "Promo_fw                            5  ...                    1\n",
              "\n",
              "[93 rows x 5 columns]"
            ]
          },
          "metadata": {
            "tags": []
          },
          "execution_count": 7
        }
      ]
    },
    {
      "cell_type": "code",
      "metadata": {
        "id": "38s2xSDJ9R4z",
        "colab_type": "code",
        "colab": {
          "base_uri": "https://localhost:8080/",
          "height": 34
        },
        "outputId": "34bc1ea9-2687-4532-f881-62c55372d9ad"
      },
      "source": [
        "n = len(train_df)\n",
        "n"
      ],
      "execution_count": 8,
      "outputs": [
        {
          "output_type": "execute_result",
          "data": {
            "text/plain": [
              "844338"
            ]
          },
          "metadata": {
            "tags": []
          },
          "execution_count": 8
        }
      ]
    },
    {
      "cell_type": "markdown",
      "metadata": {
        "id": "--CTqWPU9R6k",
        "colab_type": "text"
      },
      "source": [
        "#Prepping data for tabular model"
      ]
    },
    {
      "cell_type": "code",
      "metadata": {
        "id": "txJAeICe9R6l",
        "colab_type": "code",
        "colab": {}
      },
      "source": [
        "train_df = pd.read_pickle(path/'train_clean')\n",
        "test_df = pd.read_pickle(path/'test_clean')"
      ],
      "execution_count": 9,
      "outputs": []
    },
    {
      "cell_type": "code",
      "metadata": {
        "id": "u37Kdx_D9R6t",
        "colab_type": "code",
        "colab": {
          "base_uri": "https://localhost:8080/",
          "height": 34
        },
        "outputId": "c4eda09f-d25e-4913-99f0-40bc3ca0413e"
      },
      "source": [
        "len(train_df),len(test_df)"
      ],
      "execution_count": 10,
      "outputs": [
        {
          "output_type": "execute_result",
          "data": {
            "text/plain": [
              "(844338, 41088)"
            ]
          },
          "metadata": {
            "tags": []
          },
          "execution_count": 10
        }
      ]
    },
    {
      "cell_type": "markdown",
      "metadata": {
        "id": "CpMjQG-HdRse",
        "colab_type": "text"
      },
      "source": [
        "Using processors for data augmentation"
      ]
    },
    {
      "cell_type": "code",
      "metadata": {
        "id": "4PZZjVkA9R66",
        "colab_type": "code",
        "colab": {}
      },
      "source": [
        "procs=[FillMissing, Categorify, Normalize]"
      ],
      "execution_count": 11,
      "outputs": []
    },
    {
      "cell_type": "markdown",
      "metadata": {
        "id": "dQqBeqxxZNxx",
        "colab_type": "text"
      },
      "source": [
        "Defining categorical and continuous variables"
      ]
    },
    {
      "cell_type": "code",
      "metadata": {
        "id": "mHtVdvgC9R7D",
        "colab_type": "code",
        "colab": {}
      },
      "source": [
        "categorical_vars = ['Store', 'DayOfWeek', 'Year', 'Month', 'Day', 'StateHoliday', 'CompetitionMonthsOpen',\n",
        "    'Promo2Weeks', 'StoreType', 'Assortment', 'PromoInterval', 'CompetitionOpenSinceYear', 'Promo2SinceYear',\n",
        "    'State', 'Week', 'Events', 'Promo_fw', 'Promo_bw', 'StateHoliday_fw', 'StateHoliday_bw',\n",
        "    'SchoolHoliday_fw', 'SchoolHoliday_bw']\n",
        "\n",
        "continuous_vars = ['CompetitionDistance', 'Max_TemperatureC', 'Mean_TemperatureC', 'Min_TemperatureC',\n",
        "   'Max_Humidity', 'Mean_Humidity', 'Min_Humidity', 'Max_Wind_SpeedKm_h', \n",
        "   'Mean_Wind_SpeedKm_h', 'CloudCover', 'trend', 'trend_DE',\n",
        "   'AfterStateHoliday', 'BeforeStateHoliday', 'Promo', 'SchoolHoliday']"
      ],
      "execution_count": 12,
      "outputs": []
    },
    {
      "cell_type": "markdown",
      "metadata": {
        "id": "8mcOoMsRZZOr",
        "colab_type": "text"
      },
      "source": [
        "dependent variable =  Sales"
      ]
    },
    {
      "cell_type": "code",
      "metadata": {
        "id": "oogAgEEK9R7N",
        "colab_type": "code",
        "colab": {}
      },
      "source": [
        "dependent_var = 'Sales'\n",
        "df = train_df[categorical_vars + continuous_vars + [dependent_var,'Date']].copy()"
      ],
      "execution_count": 14,
      "outputs": []
    },
    {
      "cell_type": "code",
      "metadata": {
        "id": "nLXQPYqV9R7V",
        "colab_type": "code",
        "colab": {
          "base_uri": "https://localhost:8080/",
          "height": 34
        },
        "outputId": "ee69d4d8-a48e-4f40-fa14-737c8fd246cd"
      },
      "source": [
        "test_df['Date'].min(), test_df['Date'].max()"
      ],
      "execution_count": 15,
      "outputs": [
        {
          "output_type": "execute_result",
          "data": {
            "text/plain": [
              "(Timestamp('2015-08-01 00:00:00'), Timestamp('2015-09-17 00:00:00'))"
            ]
          },
          "metadata": {
            "tags": []
          },
          "execution_count": 15
        }
      ]
    },
    {
      "cell_type": "code",
      "metadata": {
        "id": "hT7_wwFB9R7g",
        "colab_type": "code",
        "colab": {
          "base_uri": "https://localhost:8080/",
          "height": 34
        },
        "outputId": "4ab16b00-835a-479c-f1ec-c3016d96d5ce"
      },
      "source": [
        "cut = train_df['Date'][(train_df['Date'] == train_df['Date'][len(test_df)])].index.max()\n",
        "cut"
      ],
      "execution_count": 16,
      "outputs": [
        {
          "output_type": "execute_result",
          "data": {
            "text/plain": [
              "41395"
            ]
          },
          "metadata": {
            "tags": []
          },
          "execution_count": 16
        }
      ]
    },
    {
      "cell_type": "code",
      "metadata": {
        "id": "iaOJNNca9R7z",
        "colab_type": "code",
        "colab": {}
      },
      "source": [
        "valid_idx = range(cut)"
      ],
      "execution_count": 17,
      "outputs": []
    },
    {
      "cell_type": "code",
      "metadata": {
        "id": "eRQvjsPu9R7_",
        "colab_type": "code",
        "colab": {
          "base_uri": "https://localhost:8080/",
          "height": 121
        },
        "outputId": "b67a2282-5e61-4d57-b462-48f64e9ec977"
      },
      "source": [
        "df[dependent_var].head()"
      ],
      "execution_count": 18,
      "outputs": [
        {
          "output_type": "execute_result",
          "data": {
            "text/plain": [
              "0     5263\n",
              "1     6064\n",
              "2     8314\n",
              "3    13995\n",
              "4     4822\n",
              "Name: Sales, dtype: int64"
            ]
          },
          "metadata": {
            "tags": []
          },
          "execution_count": 18
        }
      ]
    },
    {
      "cell_type": "markdown",
      "metadata": {
        "id": "BkcAZH0gdrhF",
        "colab_type": "text"
      },
      "source": [
        "**REMINDER**: Don't forget to indicate **float** in order to use Regression"
      ]
    },
    {
      "cell_type": "code",
      "metadata": {
        "id": "P-n3CV2b9R8N",
        "colab_type": "code",
        "colab": {}
      },
      "source": [
        "data = (TabularList.from_df(df, path=path, cat_names=categorical_vars, cont_names=continuous_vars, procs=procs,)\n",
        "                .split_by_idx(valid_idx)\n",
        "                .label_from_df(cols=dependent_var, label_cls=FloatList, log=True)\n",
        "                .add_test(TabularList.from_df(test_df, path=path, cat_names=categorical_vars, cont_names=continuous_vars))\n",
        "                .databunch())"
      ],
      "execution_count": 37,
      "outputs": []
    },
    {
      "cell_type": "markdown",
      "metadata": {
        "id": "Hrloi32V9R8j",
        "colab_type": "text"
      },
      "source": [
        "## Tabular model"
      ]
    },
    {
      "cell_type": "code",
      "metadata": {
        "id": "vM5ROMja9R8k",
        "colab_type": "code",
        "colab": {}
      },
      "source": [
        "max_log_y = np.log(np.max(train_df['Sales'])*1.2)\n",
        "y_range = torch.tensor([0, max_log_y], device=defaults.device)"
      ],
      "execution_count": 38,
      "outputs": []
    },
    {
      "cell_type": "markdown",
      "metadata": {
        "id": "pREHU89e_cK-",
        "colab_type": "text"
      },
      "source": [
        "**TIP:** You can add dropout to the embeddings. **Tabular models often use simpler neural networks**"
      ]
    },
    {
      "cell_type": "code",
      "metadata": {
        "id": "xRNamkKR9R8p",
        "colab_type": "code",
        "colab": {}
      },
      "source": [
        "learn = tabular_learner(data, layers=[1000,500], ps=[0.001,0.01], emb_drop=0.04, \n",
        "                        y_range=y_range, metrics=exp_rmspe)"
      ],
      "execution_count": 39,
      "outputs": []
    },
    {
      "cell_type": "code",
      "metadata": {
        "id": "hgapHBkX9R8v",
        "colab_type": "code",
        "colab": {
          "base_uri": "https://localhost:8080/",
          "height": 729
        },
        "outputId": "582c1bf0-f208-4eee-a685-d41bae62a1b6"
      },
      "source": [
        "learn.model"
      ],
      "execution_count": 40,
      "outputs": [
        {
          "output_type": "execute_result",
          "data": {
            "text/plain": [
              "TabularModel(\n",
              "  (embeds): ModuleList(\n",
              "    (0): Embedding(1116, 81)\n",
              "    (1): Embedding(8, 5)\n",
              "    (2): Embedding(4, 3)\n",
              "    (3): Embedding(13, 7)\n",
              "    (4): Embedding(32, 11)\n",
              "    (5): Embedding(2, 2)\n",
              "    (6): Embedding(26, 10)\n",
              "    (7): Embedding(27, 10)\n",
              "    (8): Embedding(5, 4)\n",
              "    (9): Embedding(4, 3)\n",
              "    (10): Embedding(4, 3)\n",
              "    (11): Embedding(24, 9)\n",
              "    (12): Embedding(9, 5)\n",
              "    (13): Embedding(13, 7)\n",
              "    (14): Embedding(53, 15)\n",
              "    (15): Embedding(22, 9)\n",
              "    (16): Embedding(7, 5)\n",
              "    (17): Embedding(7, 5)\n",
              "    (18): Embedding(2, 2)\n",
              "    (19): Embedding(8, 5)\n",
              "    (20): Embedding(9, 5)\n",
              "    (21): Embedding(9, 5)\n",
              "    (22): Embedding(3, 3)\n",
              "    (23): Embedding(3, 3)\n",
              "  )\n",
              "  (emb_drop): Dropout(p=0.04, inplace=False)\n",
              "  (bn_cont): BatchNorm1d(16, eps=1e-05, momentum=0.1, affine=True, track_running_stats=True)\n",
              "  (layers): Sequential(\n",
              "    (0): Linear(in_features=233, out_features=1000, bias=True)\n",
              "    (1): ReLU(inplace=True)\n",
              "    (2): BatchNorm1d(1000, eps=1e-05, momentum=0.1, affine=True, track_running_stats=True)\n",
              "    (3): Dropout(p=0.001, inplace=False)\n",
              "    (4): Linear(in_features=1000, out_features=500, bias=True)\n",
              "    (5): ReLU(inplace=True)\n",
              "    (6): BatchNorm1d(500, eps=1e-05, momentum=0.1, affine=True, track_running_stats=True)\n",
              "    (7): Dropout(p=0.01, inplace=False)\n",
              "    (8): Linear(in_features=500, out_features=1, bias=True)\n",
              "  )\n",
              ")"
            ]
          },
          "metadata": {
            "tags": []
          },
          "execution_count": 40
        }
      ]
    },
    {
      "cell_type": "code",
      "metadata": {
        "id": "sUBvNAry9R81",
        "colab_type": "code",
        "colab": {
          "base_uri": "https://localhost:8080/",
          "height": 34
        },
        "outputId": "ada54c74-8835-4ce9-98e6-38d1d72aec91"
      },
      "source": [
        "len(data.train_ds.cont_names)"
      ],
      "execution_count": 41,
      "outputs": [
        {
          "output_type": "execute_result",
          "data": {
            "text/plain": [
              "16"
            ]
          },
          "metadata": {
            "tags": []
          },
          "execution_count": 41
        }
      ]
    },
    {
      "cell_type": "code",
      "metadata": {
        "id": "ztCP5CZT9R87",
        "colab_type": "code",
        "colab": {
          "base_uri": "https://localhost:8080/",
          "height": 375
        },
        "outputId": "8ba71e71-09f1-40e9-d384-6a8ca4fb4815"
      },
      "source": [
        "learn.lr_find()\n",
        "learn.recorder.plot()"
      ],
      "execution_count": 42,
      "outputs": [
        {
          "output_type": "display_data",
          "data": {
            "text/html": [
              "\n",
              "    <div>\n",
              "        <style>\n",
              "            /* Turns off some styling */\n",
              "            progress {\n",
              "                /* gets rid of default border in Firefox and Opera. */\n",
              "                border: none;\n",
              "                /* Needs to be in here for Safari polyfill so background images work as expected. */\n",
              "                background-size: auto;\n",
              "            }\n",
              "            .progress-bar-interrupted, .progress-bar-interrupted::-webkit-progress-bar {\n",
              "                background: #F44336;\n",
              "            }\n",
              "        </style>\n",
              "      <progress value='0' class='' max='1' style='width:300px; height:20px; vertical-align: middle;'></progress>\n",
              "      0.00% [0/1 00:00<00:00]\n",
              "    </div>\n",
              "    \n",
              "<table border=\"1\" class=\"dataframe\">\n",
              "  <thead>\n",
              "    <tr style=\"text-align: left;\">\n",
              "      <th>epoch</th>\n",
              "      <th>train_loss</th>\n",
              "      <th>valid_loss</th>\n",
              "      <th>exp_rmspe</th>\n",
              "      <th>time</th>\n",
              "    </tr>\n",
              "  </thead>\n",
              "  <tbody>\n",
              "  </tbody>\n",
              "</table><p>\n",
              "\n",
              "    <div>\n",
              "        <style>\n",
              "            /* Turns off some styling */\n",
              "            progress {\n",
              "                /* gets rid of default border in Firefox and Opera. */\n",
              "                border: none;\n",
              "                /* Needs to be in here for Safari polyfill so background images work as expected. */\n",
              "                background-size: auto;\n",
              "            }\n",
              "            .progress-bar-interrupted, .progress-bar-interrupted::-webkit-progress-bar {\n",
              "                background: #F44336;\n",
              "            }\n",
              "        </style>\n",
              "      <progress value='96' class='' max='12545' style='width:300px; height:20px; vertical-align: middle;'></progress>\n",
              "      0.77% [96/12545 00:02<04:20 7.3623]\n",
              "    </div>\n",
              "    "
            ],
            "text/plain": [
              "<IPython.core.display.HTML object>"
            ]
          },
          "metadata": {
            "tags": []
          }
        },
        {
          "output_type": "stream",
          "text": [
            "LR Finder is complete, type {learner_name}.recorder.plot() to see the graph.\n"
          ],
          "name": "stdout"
        },
        {
          "output_type": "display_data",
          "data": {
            "image/png": "[encoded data removed]",
            "text/plain": [
              "<Figure size 432x288 with 1 Axes>"
            ]
          },
          "metadata": {
            "tags": [],
            "needs_background": "light"
          }
        }
      ]
    },
    {
      "cell_type": "code",
      "metadata": {
        "id": "dPGSTEAO9R9H",
        "colab_type": "code",
        "colab": {
          "base_uri": "https://localhost:8080/",
          "height": 269
        },
        "outputId": "acfd1b64-84cd-455e-9820-19786fb85b3b"
      },
      "source": [
        "learn.fit_one_cycle(7, 1e-3, wd=0.2)"
      ],
      "execution_count": 43,
      "outputs": [
        {
          "output_type": "display_data",
          "data": {
            "text/html": [
              "<table border=\"1\" class=\"dataframe\">\n",
              "  <thead>\n",
              "    <tr style=\"text-align: left;\">\n",
              "      <th>epoch</th>\n",
              "      <th>train_loss</th>\n",
              "      <th>valid_loss</th>\n",
              "      <th>exp_rmspe</th>\n",
              "      <th>time</th>\n",
              "    </tr>\n",
              "  </thead>\n",
              "  <tbody>\n",
              "    <tr>\n",
              "      <td>0</td>\n",
              "      <td>0.027047</td>\n",
              "      <td>0.035032</td>\n",
              "      <td>0.194776</td>\n",
              "      <td>04:09</td>\n",
              "    </tr>\n",
              "    <tr>\n",
              "      <td>1</td>\n",
              "      <td>0.022746</td>\n",
              "      <td>0.024508</td>\n",
              "      <td>0.168016</td>\n",
              "      <td>04:10</td>\n",
              "    </tr>\n",
              "    <tr>\n",
              "      <td>2</td>\n",
              "      <td>0.018140</td>\n",
              "      <td>0.017231</td>\n",
              "      <td>0.135396</td>\n",
              "      <td>04:11</td>\n",
              "    </tr>\n",
              "    <tr>\n",
              "      <td>3</td>\n",
              "      <td>0.018579</td>\n",
              "      <td>0.017622</td>\n",
              "      <td>0.137133</td>\n",
              "      <td>04:12</td>\n",
              "    </tr>\n",
              "    <tr>\n",
              "      <td>4</td>\n",
              "      <td>0.012842</td>\n",
              "      <td>0.016673</td>\n",
              "      <td>0.118152</td>\n",
              "      <td>04:09</td>\n",
              "    </tr>\n",
              "    <tr>\n",
              "      <td>5</td>\n",
              "      <td>0.010983</td>\n",
              "      <td>0.012240</td>\n",
              "      <td>0.106536</td>\n",
              "      <td>04:08</td>\n",
              "    </tr>\n",
              "    <tr>\n",
              "      <td>6</td>\n",
              "      <td>0.010588</td>\n",
              "      <td>0.011436</td>\n",
              "      <td>0.103456</td>\n",
              "      <td>04:06</td>\n",
              "    </tr>\n",
              "  </tbody>\n",
              "</table>"
            ],
            "text/plain": [
              "<IPython.core.display.HTML object>"
            ]
          },
          "metadata": {
            "tags": []
          }
        }
      ]
    },
    {
      "cell_type": "code",
      "metadata": {
        "id": "I7P8Ll-i9R9M",
        "colab_type": "code",
        "colab": {}
      },
      "source": [
        "learn.save('rossmann-1')"
      ],
      "execution_count": 46,
      "outputs": []
    },
    {
      "cell_type": "code",
      "metadata": {
        "id": "z7RM7bcN9R9T",
        "colab_type": "code",
        "colab": {
          "base_uri": "https://localhost:8080/",
          "height": 279
        },
        "outputId": "12c5ff64-aa74-4b0f-8fe7-1573ca4a4eef"
      },
      "source": [
        "learn.recorder.plot_losses(skip_start=10000)"
      ],
      "execution_count": 48,
      "outputs": [
        {
          "output_type": "display_data",
          "data": {
            "image/png": "[encoded data removed]",
            "text/plain": [
              "<Figure size 432x288 with 1 Axes>"
            ]
          },
          "metadata": {
            "tags": [],
            "needs_background": "light"
          }
        }
      ]
    },
    {
      "cell_type": "code",
      "metadata": {
        "id": "eITSLcsr9R9d",
        "colab_type": "code",
        "colab": {}
      },
      "source": [
        "# learn.load('rossman-1');"
      ],
      "execution_count": null,
      "outputs": []
    },
    {
      "cell_type": "code",
      "metadata": {
        "id": "Uh__VHX59R9q",
        "colab_type": "code",
        "colab": {}
      },
      "source": [
        "# learn.fit_one_cycle(5, 3e-4)"
      ],
      "execution_count": null,
      "outputs": []
    },
    {
      "cell_type": "code",
      "metadata": {
        "id": "tjEClmOs9R9v",
        "colab_type": "code",
        "colab": {}
      },
      "source": [
        "# learn.fit_one_cycle(5, 3e-4)"
      ],
      "execution_count": null,
      "outputs": []
    },
    {
      "cell_type": "code",
      "metadata": {
        "id": "lsDDZjSU9R91",
        "colab_type": "code",
        "colab": {
          "base_uri": "https://localhost:8080/",
          "height": 17
        },
        "outputId": "8e5e0f35-b997-41ae-873b-67e9ad9ef2e9"
      },
      "source": [
        "test_preds=learn.get_preds(DatasetType.Test)\n",
        "test_df[\"Sales\"]=np.exp(test_preds[0].data).numpy().T[0]\n",
        "test_df[[\"Id\",\"Sales\"]]=test_df[[\"Id\",\"Sales\"]].astype(\"int\")\n",
        "test_df[[\"Id\",\"Sales\"]].to_csv(\"rossmann1_submission.csv\",index=False)"
      ],
      "execution_count": 49,
      "outputs": [
        {
          "output_type": "display_data",
          "data": {
            "text/html": [
              ""
            ],
            "text/plain": [
              "<IPython.core.display.HTML object>"
            ]
          },
          "metadata": {
            "tags": []
          }
        }
      ]
    }
  ]
}